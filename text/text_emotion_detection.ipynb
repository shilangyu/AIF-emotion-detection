{
 "cells": [
  {
   "cell_type": "markdown",
   "id": "9dc7ee32",
   "metadata": {},
   "source": [
    "# Text emotion detection "
   ]
  },
  {
   "cell_type": "code",
   "execution_count": 1,
   "id": "3df502f7",
   "metadata": {},
   "outputs": [
    {
     "data": {
      "text/html": [
       "<div>\n",
       "<style scoped>\n",
       "    .dataframe tbody tr th:only-of-type {\n",
       "        vertical-align: middle;\n",
       "    }\n",
       "\n",
       "    .dataframe tbody tr th {\n",
       "        vertical-align: top;\n",
       "    }\n",
       "\n",
       "    .dataframe thead th {\n",
       "        text-align: right;\n",
       "    }\n",
       "</style>\n",
       "<table border=\"1\" class=\"dataframe\">\n",
       "  <thead>\n",
       "    <tr style=\"text-align: right;\">\n",
       "      <th></th>\n",
       "      <th>tweet_id</th>\n",
       "      <th>sentiment</th>\n",
       "      <th>content</th>\n",
       "    </tr>\n",
       "  </thead>\n",
       "  <tbody>\n",
       "    <tr>\n",
       "      <th>0</th>\n",
       "      <td>1956967341</td>\n",
       "      <td>empty</td>\n",
       "      <td>@tiffanylue i know  i was listenin to bad habi...</td>\n",
       "    </tr>\n",
       "    <tr>\n",
       "      <th>1</th>\n",
       "      <td>1956967666</td>\n",
       "      <td>sadness</td>\n",
       "      <td>Layin n bed with a headache  ughhhh...waitin o...</td>\n",
       "    </tr>\n",
       "    <tr>\n",
       "      <th>2</th>\n",
       "      <td>1956967696</td>\n",
       "      <td>sadness</td>\n",
       "      <td>Funeral ceremony...gloomy friday...</td>\n",
       "    </tr>\n",
       "    <tr>\n",
       "      <th>3</th>\n",
       "      <td>1956967789</td>\n",
       "      <td>enthusiasm</td>\n",
       "      <td>wants to hang out with friends SOON!</td>\n",
       "    </tr>\n",
       "    <tr>\n",
       "      <th>4</th>\n",
       "      <td>1956968416</td>\n",
       "      <td>neutral</td>\n",
       "      <td>@dannycastillo We want to trade with someone w...</td>\n",
       "    </tr>\n",
       "  </tbody>\n",
       "</table>\n",
       "</div>"
      ],
      "text/plain": [
       "     tweet_id   sentiment                                            content\n",
       "0  1956967341       empty  @tiffanylue i know  i was listenin to bad habi...\n",
       "1  1956967666     sadness  Layin n bed with a headache  ughhhh...waitin o...\n",
       "2  1956967696     sadness                Funeral ceremony...gloomy friday...\n",
       "3  1956967789  enthusiasm               wants to hang out with friends SOON!\n",
       "4  1956968416     neutral  @dannycastillo We want to trade with someone w..."
      ]
     },
     "execution_count": 1,
     "metadata": {},
     "output_type": "execute_result"
    }
   ],
   "source": [
    "import numpy as np\n",
    "import pandas as pd\n",
    "import matplotlib.pyplot as plt\n",
    "\n",
    "data = pd.read_csv('data/tweet_emotions.csv.gz', compression='gzip')\n",
    "\n",
    "data.head()"
   ]
  },
  {
   "cell_type": "markdown",
   "id": "efcdc483",
   "metadata": {},
   "source": [
    "The dataset consists of 3 columns, the `tweet_id`, the `sentiment` (the emotion), and the textual `content`.\n",
    "\n",
    "## Dataset preparation"
   ]
  },
  {
   "cell_type": "code",
   "execution_count": 2,
   "id": "b3bb9e0d",
   "metadata": {},
   "outputs": [
    {
     "name": "stdout",
     "output_type": "stream",
     "text": [
      "Instances: 40000\n",
      "Unique instances: 39827\n",
      "Unique tweets: 40000\n"
     ]
    }
   ],
   "source": [
    "print(f'Instances: {len(data[\"content\"])}')\n",
    "print(f'Unique instances: {len(set(data[\"content\"]))}')\n",
    "print(f'Unique tweets: {len(set(data[\"tweet_id\"]))}')"
   ]
  },
  {
   "cell_type": "markdown",
   "id": "c65a835e",
   "metadata": {},
   "source": [
    "We have 40k instances to work with, however out of those there are 173 tweets with repeating content. Let's examine some of those instances to see whether they are in different classes"
   ]
  },
  {
   "cell_type": "code",
   "execution_count": 3,
   "id": "cf12e50b",
   "metadata": {},
   "outputs": [
    {
     "name": "stdout",
     "output_type": "stream",
     "text": [
      "91\n",
      "       tweet_id sentiment                                content\n",
      "454  1957075229     worry  Somebody please save the polar bears!\n",
      "521  1957088574     worry  Somebody please save the polar bears!\n",
      "\n",
      "        tweet_id sentiment      content\n",
      "147   1957001506    relief  I'm at work\n",
      "1026  1957198430   neutral  I'm at work\n"
     ]
    }
   ],
   "source": [
    "# the amount of rows with the exact same sentiment-content combination\n",
    "print(sum(data.duplicated(subset=[\"sentiment\", \"content\"])))\n",
    "\n",
    "print(data[data[\"content\"] == \"Somebody please save the polar bears!\"])\n",
    "print()\n",
    "print(data[data[\"content\"] == \"I'm at work\"])"
   ]
  },
  {
   "cell_type": "markdown",
   "id": "0bf2c4e4",
   "metadata": {},
   "source": [
    "We therefore have 91 rows which are completely redundant and can be removed from our considerations. On the other hand, we have some contents which were assigned two different classes, in the example of _\"I'm at work\"_ it is once said to be neutral and once said to be relief (debatable). These instances can be left in as this represents the reality where a single text cannot always be strictly assigned to a single emotion. Also, these instances will act as a low scale reguralizer."
   ]
  },
  {
   "cell_type": "code",
   "execution_count": 4,
   "id": "3ca5a56b",
   "metadata": {},
   "outputs": [],
   "source": [
    "# idempotent removal of duplicates\n",
    "data = data[~data.duplicated(subset=[\"sentiment\", \"content\"])]"
   ]
  },
  {
   "cell_type": "markdown",
   "id": "a9c73043",
   "metadata": {},
   "source": [
    "We will now proceed to examining the class distribution.\n",
    "\n",
    "### Distribution analysis"
   ]
  },
  {
   "cell_type": "code",
   "execution_count": 43,
   "id": "d6eff100",
   "metadata": {},
   "outputs": [
    {
     "data": {
      "image/png": "[encoded data removed]",
      "text/plain": [
       "<Figure size 432x288 with 1 Axes>"
      ]
     },
     "metadata": {
      "needs_background": "light"
     },
     "output_type": "display_data"
    }
   ],
   "source": [
    "def plot_dist(df: pd.DataFrame):\n",
    "    classes = df.groupby(\"sentiment\").nunique()[[\"tweet_id\"]]\n",
    "    classes.plot(kind='bar', ylabel='instances', legend=False)\n",
    "    \n",
    "plot_dist(data)"
   ]
  },
  {
   "cell_type": "markdown",
   "id": "7f789d59",
   "metadata": {},
   "source": [
    "As we can see, the dataset is not very balanced which might greatly hinder the performance of our classifier. There are a few ways to go about it:\n",
    "\n",
    "- Removal of classes with a low amount of instances; such as _anger_ or _boredom_\n",
    "- Augmenting some promising classes with statistical models\n",
    "\n",
    "Let's additionally check the number of charaters and the number of words in each sentiment class, perhaps this shows a more balanced distribution:"
   ]
  },
  {
   "cell_type": "code",
   "execution_count": 6,
   "id": "2f034c9d",
   "metadata": {},
   "outputs": [
    {
     "data": {
      "text/plain": [
       "<matplotlib.legend.Legend at 0x11d4e4310>"
      ]
     },
     "execution_count": 6,
     "metadata": {},
     "output_type": "execute_result"
    },
    {
     "data": {
      "image/png": "[encoded data removed]",
      "text/plain": [
       "<Figure size 1440x360 with 4 Axes>"
      ]
     },
     "metadata": {
      "needs_background": "light"
     },
     "output_type": "display_data"
    }
   ],
   "source": [
    "def flatten(l) -> list:\n",
    "    \"\"\"flattens a single level of a list\"\"\"\n",
    "    return [x for sublist in l for x in sublist]\n",
    "\n",
    "def normalized_words(s: str) -> list[str]:\n",
    "    \"\"\"Returns words with punctuation removed from a given string, will not deduplicate\"\"\"\n",
    "    import re\n",
    "    from string import punctuation\n",
    "    return [w.lower() for w in re.sub(f'[{punctuation}]', '', s).split()]\n",
    "\n",
    "# calculate needed counts\n",
    "word_count = []\n",
    "char_count = []\n",
    "for sent in classes.axes[0]:\n",
    "    curr = data[data[\"sentiment\"] == sent][\"content\"]\n",
    "    all_words = flatten(normalized_words(c) for c in curr)\n",
    "    word_count.append(len(all_words))\n",
    "    char_count.append(sum([len(s) for s in curr]))\n",
    "\n",
    "# add calculated counts to dataframe\n",
    "classes[\"word_count\"] = word_count\n",
    "classes[\"char_count\"] = char_count\n",
    "\n",
    "# display results in a twin graph\n",
    "fig, (ax1, ax2) = plt.subplots(1, 2, figsize=(20, 5))\n",
    "\n",
    "classes[[\"tweet_id\"]].plot(kind='bar', ylabel='instances', position=1, legend=False, ax=ax1)\n",
    "classes[[\"word_count\"]].plot(kind='bar', ylabel='words', position=0, color='tab:orange', legend=False, ax=ax1.twinx())\n",
    "classes[[\"tweet_id\"]].plot(kind='bar', ylabel='instances', position=1, legend=False, ax=ax2)\n",
    "classes[[\"char_count\"]].plot(kind='bar', ylabel='characters', position=0, color='tab:green', legend=False, ax=ax2.twinx())\n",
    "fig.legend(loc=\"upper right\", labels=[\"instances\", 'instances', 'words', 'characters'])"
   ]
  },
  {
   "cell_type": "markdown",
   "id": "d46841e7",
   "metadata": {},
   "source": [
    "Unfortunely, as seen in the figures above, word count and characters count distributions follow the instances scaled distribution, leaving us with no extra wiggle room.\n",
    "\n",
    "### Most common words\n",
    "\n",
    "Below we calculate the most common words in each class, excluding those that are shared between classes to eliminate universaly most common words such as `I` or `the`."
   ]
  },
  {
   "cell_type": "code",
   "execution_count": 9,
   "id": "c45c284e",
   "metadata": {},
   "outputs": [
    {
     "name": "stdout",
     "output_type": "stream",
     "text": [
      "Most common words for anger: [('your', 9), ('are', 9), ('out', 9)]\n",
      "Most common words for boredom: [('bored', 27), ('work', 15), ('out', 15)]\n",
      "Most common words for empty: [('dont', 47), ('no', 45), ('out', 43)]\n",
      "Most common words for enthusiasm: [('go', 54), ('up', 53), ('out', 45)]\n",
      "Most common words for fun: [('lol', 177), ('fun', 141), ('out', 116)]\n",
      "Most common words for happiness: [('happy', 403), ('thanks', 295), ('great', 292)]\n",
      "Most common words for hate: [('hate', 209), ('like', 93), ('dont', 88)]\n",
      "Most common words for love: [('love', 853), ('happy', 553), ('mothers', 519)]\n",
      "Most common words for neutral: [('now', 427), ('up', 415), ('do', 388)]\n",
      "Most common words for relief: [('now', 120), ('up', 91), ('thanks', 90)]\n",
      "Most common words for sadness: [('no', 380), ('sad', 373), ('miss', 338)]\n",
      "Most common words for surprise: [('are', 136), ('no', 128), ('up', 123)]\n",
      "Most common words for worry: [('dont', 547), ('get', 539), ('no', 512)]\n"
     ]
    }
   ],
   "source": [
    "from collections import Counter\n",
    "\n",
    "counters = [\n",
    "    Counter(flatten(\n",
    "        normalized_words(c) \n",
    "        for c in data[data[\"sentiment\"] == sent][\"content\"]\n",
    "    ))\n",
    "    for sent in classes.axes[0]\n",
    "]\n",
    "\n",
    "total = Counter()\n",
    "for c in counters:\n",
    "    total = total + c\n",
    "    \n",
    "univ_common = {w[0] for w in total.most_common(30)}\n",
    "\n",
    "for i, c in enumerate(counters):\n",
    "    m = []\n",
    "    for l in c.most_common():\n",
    "        if l[0] not in univ_common:\n",
    "            m.append(l)\n",
    "            if len(m) == 3:\n",
    "                break\n",
    "    print(f'Most common words for {classes.axes[0][i]}: {m}')"
   ]
  },
  {
   "cell_type": "code",
   "execution_count": 74,
   "id": "771860b9",
   "metadata": {},
   "outputs": [
    {
     "data": {
      "image/png": "[encoded data removed]",
      "text/plain": [
       "<Figure size 432x288 with 1 Axes>"
      ]
     },
     "metadata": {
      "needs_background": "light"
     },
     "output_type": "display_data"
    }
   ],
   "source": [
    "subset = [\"happiness\", \"neutral\", \"love\", \"worry\", \"sadness\"]\n",
    "\n",
    "dataset = [\n",
    "    data[data[\"sentiment\"] == cl]\n",
    "    for cl in subset\n",
    "]\n",
    "\n",
    "threshold = min([len(cl) for cl in dataset])\n",
    "\n",
    "dataset = pd.concat([cl.sample(n=threshold) for cl in dataset])\n",
    "\n",
    "plot_dist(dataset)"
   ]
  },
  {
   "cell_type": "code",
   "execution_count": 76,
   "id": "3631305f",
   "metadata": {},
   "outputs": [
    {
     "name": "stdout",
     "output_type": "stream",
     "text": [
      "0.39647461194422523\n",
      "Most Informative Features\n",
      "           contains(sad) = True           sadnes : happin =     31.1 : 1.0\n",
      "       contains(mothers) = True             love : sadnes =     23.1 : 1.0\n",
      "         contains(hurts) = True            worry : love   =     19.9 : 1.0\n",
      "        contains(stupid) = True           sadnes : love   =     19.8 : 1.0\n",
      "          contains(moms) = True             love : sadnes =     19.4 : 1.0\n",
      "           contains(use) = True           neutra : love   =     18.6 : 1.0\n",
      "          contains(suck) = True           sadnes : happin =     18.4 : 1.0\n",
      "         contains(sucks) = True           sadnes : happin =     18.2 : 1.0\n",
      "          contains(hate) = True           sadnes : happin =     18.2 : 1.0\n",
      "          contains(star) = True           happin : sadnes =     17.5 : 1.0\n"
     ]
    }
   ],
   "source": [
    "train = dataset.sample(frac=0.8)\n",
    "test = dataset.drop(train.index)\n",
    "\n",
    "import nltk\n",
    "\n",
    "all_words = nltk.FreqDist(flatten(normalized_words(s) for s in train[\"content\"]))\n",
    "\n",
    "most_common = list(all_words)[30:2000]\n",
    "\n",
    "def feature(tweet: str) -> dict[str, bool]:\n",
    "    f = {}\n",
    "    words = set(normalized_words(tweet))\n",
    "    for w in most_common:\n",
    "        f[f'contains({w})'] = w in words\n",
    "    return f\n",
    "\n",
    "\n",
    "\n",
    "train_set = train.apply(lambda row: (feature(row[\"content\"]), row[\"sentiment\"]), axis=1)\n",
    "test_set = test.apply(lambda row: (feature(row[\"content\"]), row[\"sentiment\"]), axis=1)\n",
    "\n",
    "\n",
    "classifier = nltk.NaiveBayesClassifier.train(train_set)\n",
    "print(nltk.classify.accuracy(classifier, test_set))\n",
    "\n",
    "classifier.show_most_informative_features(10)"
   ]
  }
 ],
 "metadata": {
  "kernelspec": {
   "display_name": "Python 3 (ipykernel)",
   "language": "python",
   "name": "python3"
  },
  "language_info": {
   "codemirror_mode": {
    "name": "ipython",
    "version": 3
   },
   "file_extension": ".py",
   "mimetype": "text/x-python",
   "name": "python",
   "nbconvert_exporter": "python",
   "pygments_lexer": "ipython3",
   "version": "3.10.4"
  }
 },
 "nbformat": 4,
 "nbformat_minor": 5
}
