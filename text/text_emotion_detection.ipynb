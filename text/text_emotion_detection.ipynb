{
 "cells": [
  {
   "cell_type": "markdown",
   "id": "9dc7ee32",
   "metadata": {},
   "source": [
    "# Text emotion detection "
   ]
  },
  {
   "cell_type": "code",
   "execution_count": 4,
   "id": "3df502f7",
   "metadata": {},
   "outputs": [
    {
     "data": {
      "text/html": [
       "<div>\n",
       "<style scoped>\n",
       "    .dataframe tbody tr th:only-of-type {\n",
       "        vertical-align: middle;\n",
       "    }\n",
       "\n",
       "    .dataframe tbody tr th {\n",
       "        vertical-align: top;\n",
       "    }\n",
       "\n",
       "    .dataframe thead th {\n",
       "        text-align: right;\n",
       "    }\n",
       "</style>\n",
       "<table border=\"1\" class=\"dataframe\">\n",
       "  <thead>\n",
       "    <tr style=\"text-align: right;\">\n",
       "      <th></th>\n",
       "      <th>tweet_id</th>\n",
       "      <th>sentiment</th>\n",
       "      <th>content</th>\n",
       "    </tr>\n",
       "  </thead>\n",
       "  <tbody>\n",
       "    <tr>\n",
       "      <th>0</th>\n",
       "      <td>1956967341</td>\n",
       "      <td>empty</td>\n",
       "      <td>@tiffanylue i know  i was listenin to bad habi...</td>\n",
       "    </tr>\n",
       "    <tr>\n",
       "      <th>1</th>\n",
       "      <td>1956967666</td>\n",
       "      <td>sadness</td>\n",
       "      <td>Layin n bed with a headache  ughhhh...waitin o...</td>\n",
       "    </tr>\n",
       "    <tr>\n",
       "      <th>2</th>\n",
       "      <td>1956967696</td>\n",
       "      <td>sadness</td>\n",
       "      <td>Funeral ceremony...gloomy friday...</td>\n",
       "    </tr>\n",
       "    <tr>\n",
       "      <th>3</th>\n",
       "      <td>1956967789</td>\n",
       "      <td>enthusiasm</td>\n",
       "      <td>wants to hang out with friends SOON!</td>\n",
       "    </tr>\n",
       "    <tr>\n",
       "      <th>4</th>\n",
       "      <td>1956968416</td>\n",
       "      <td>neutral</td>\n",
       "      <td>@dannycastillo We want to trade with someone w...</td>\n",
       "    </tr>\n",
       "  </tbody>\n",
       "</table>\n",
       "</div>"
      ],
      "text/plain": [
       "     tweet_id   sentiment                                            content\n",
       "0  1956967341       empty  @tiffanylue i know  i was listenin to bad habi...\n",
       "1  1956967666     sadness  Layin n bed with a headache  ughhhh...waitin o...\n",
       "2  1956967696     sadness                Funeral ceremony...gloomy friday...\n",
       "3  1956967789  enthusiasm               wants to hang out with friends SOON!\n",
       "4  1956968416     neutral  @dannycastillo We want to trade with someone w..."
      ]
     },
     "execution_count": 4,
     "metadata": {},
     "output_type": "execute_result"
    }
   ],
   "source": [
    "import numpy as np\n",
    "import pandas as pd\n",
    "\n",
    "data = pd.read_csv('data/tweet_emotions.csv.gz', compression='gzip')\n",
    "\n",
    "data.head()"
   ]
  },
  {
   "cell_type": "markdown",
   "id": "efcdc483",
   "metadata": {},
   "source": [
    "The dataset consists of 3 columns, the `tweet_id`, the `sentiment` (the emotion), and the textual `content`."
   ]
  },
  {
   "cell_type": "code",
   "execution_count": 19,
   "id": "b3bb9e0d",
   "metadata": {},
   "outputs": [
    {
     "name": "stdout",
     "output_type": "stream",
     "text": [
      "Instances: 40000\n",
      "Unique instances: 39827\n",
      "Unique tweets: 40000\n"
     ]
    }
   ],
   "source": [
    "print(f'Instances: {len(data[\"content\"])}')\n",
    "print(f'Unique instances: {len(set(data[\"content\"]))}')\n",
    "print(f'Unique tweets: {len(set(data[\"tweet_id\"]))}')"
   ]
  },
  {
   "cell_type": "markdown",
   "id": "c65a835e",
   "metadata": {},
   "source": [
    "We have 40k instances to work with, however out of those there are 173 tweets with repeating content. Let's examine some of those instances to see whether they are in different classes"
   ]
  },
  {
   "cell_type": "code",
   "execution_count": 47,
   "id": "cf12e50b",
   "metadata": {},
   "outputs": [
    {
     "name": "stdout",
     "output_type": "stream",
     "text": [
      "91\n",
      "       tweet_id sentiment                                content\n",
      "454  1957075229     worry  Somebody please save the polar bears!\n",
      "521  1957088574     worry  Somebody please save the polar bears!\n",
      "\n",
      "        tweet_id sentiment      content\n",
      "147   1957001506    relief  I'm at work\n",
      "1026  1957198430   neutral  I'm at work\n"
     ]
    }
   ],
   "source": [
    "# the amount of rows with the exact same sentiment-content combination\n",
    "print(sum(data.duplicated(subset=[\"sentiment\", \"content\"])))\n",
    "\n",
    "print(data[data[\"content\"] == \"Somebody please save the polar bears!\"])\n",
    "print()\n",
    "print(data[data[\"content\"] == \"I'm at work\"])"
   ]
  },
  {
   "cell_type": "markdown",
   "id": "0bf2c4e4",
   "metadata": {},
   "source": [
    "We therefore have 91 rows which are completely redundant and can be removed from our considerations. On the other hand, we have some contents which were assigned two different classes, in the example of _\"I'm at work\"_ it is once said to be neutral and once said to be relief (debatable). These instances can be left in as this represents the reality where a single text cannot always be strictly assigned to a single emotion. Also, these instances will act as a low scale reguralizer."
   ]
  },
  {
   "cell_type": "code",
   "execution_count": 59,
   "id": "3ca5a56b",
   "metadata": {},
   "outputs": [],
   "source": [
    "# idempotent removal of duplicates\n",
    "data = data[~data.duplicated(subset=[\"sentiment\", \"content\"])]"
   ]
  },
  {
   "cell_type": "markdown",
   "id": "a9c73043",
   "metadata": {},
   "source": [
    "We will now proceed to examining the class distribution."
   ]
  },
  {
   "cell_type": "code",
   "execution_count": 80,
   "id": "d6eff100",
   "metadata": {},
   "outputs": [
    {
     "data": {
      "text/plain": [
       "<AxesSubplot:xlabel='sentiment', ylabel='instances'>"
      ]
     },
     "execution_count": 80,
     "metadata": {},
     "output_type": "execute_result"
    },
    {
     "data": {
      "image/png": "[encoded data removed]",
      "text/plain": [
       "<Figure size 432x288 with 1 Axes>"
      ]
     },
     "metadata": {
      "needs_background": "light"
     },
     "output_type": "display_data"
    }
   ],
   "source": [
    "data.groupby(\"sentiment\").nunique()[[\"tweet_id\"]].plot(kind='bar', ylabel='instances', legend=False)"
   ]
  },
  {
   "cell_type": "markdown",
   "id": "7f789d59",
   "metadata": {},
   "source": [
    "As we can see, the dataset is not very balanced which might greatly hinder the performance of our classifier. There are a few ways to go about it:\n",
    "\n",
    "- Removal of classes with a low amount of instances; such as _anger_ or _boredom_\n",
    "- Augmenting some promising classes with statistical models"
   ]
  }
 ],
 "metadata": {
  "kernelspec": {
   "display_name": "Python 3 (ipykernel)",
   "language": "python",
   "name": "python3"
  },
  "language_info": {
   "codemirror_mode": {
    "name": "ipython",
    "version": 3
   },
   "file_extension": ".py",
   "mimetype": "text/x-python",
   "name": "python",
   "nbconvert_exporter": "python",
   "pygments_lexer": "ipython3",
   "version": "3.10.2"
  }
 },
 "nbformat": 4,
 "nbformat_minor": 5
}
